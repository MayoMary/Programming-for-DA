{
 "cells": [
  {
   "cell_type": "markdown",
   "metadata": {},
   "source": [
    "## Programming for Analytics assignment\n",
    "Mary McHale\n",
    "\n",
    "The assignment is based on using the numpy.random package in Python.\n",
    "\n",
    "#### Purpose of the package\n",
    "Numpy is the primary package used for performing scientific calculations(e.g. the generation of random numbers, linear algebra) and data analysis in Python. The Numpy name is short for Numerical Python. NumPy includes:\n",
    "\n",
    " - Standard mathematical functions (e.g. addition, subtraction, multiplication and division) for quick calculations on entire arrays of data. The advantage of NumPy is that it has functions to do this in one step, otherwise Python could only perform this by using loops and for large data, this would use up a lot of memory and time to get the required result.\n",
    " \n",
    " - ndarray, a key feature, a fast and adaptable container for large data sets in Python where 'nd' denotes the dimension size.\n",
    " \n",
    " - NumPy can be used with other Python packages quite eaasily for higher level data analytical functionality\n",
    " \n",
    "References : \n",
    "https://www.oreilly.com/library/view/python-for-data/9781449323592/ch04.html\n",
    "http://numba.pydata.org/numba-doc/0.19.1/reference/numpysupported.html\n",
    "http://cs231n.github.io/python-numpy-tutorial/\n",
    "file:///C:/Users/Mary/Downloads/Numpy.pdf\n",
    "\n",
    "#### Explanation of the function 'simple random data'.\n",
    "\n",
    "The purpose of the 'simple random data' function is to produce a sample from a larger set of data where all data points are equal and have the same chance of being selected. \n",
    "https://www.investopedia.com/terms/s/simple-random-sample.asp\n",
    "\n",
    "There are ten types of functions in NumPy to create 'simple random data', each with diferent purposes. Of these, I will explain the following 3 - randint(), rand() and randn().\n",
    "\n",
    "Reference : https://docs.scipy.org/doc/numpy-1.14.0/reference/generated/numpy.random.normal.html"
   ]
  },
  {
   "cell_type": "code",
   "execution_count": 1,
   "metadata": {
    "collapsed": true
   },
   "outputs": [],
   "source": [
    "# Importing NumPy library\n",
    "# np is the alias for NumPy\n",
    "import numpy as np"
   ]
  },
  {
   "cell_type": "code",
   "execution_count": 2,
   "metadata": {},
   "outputs": [
    {
     "data": {
      "text/plain": [
       "array([8, 9, 6, 1, 4])"
      ]
     },
     "execution_count": 2,
     "metadata": {},
     "output_type": "execute_result"
    }
   ],
   "source": [
    "## randint() function\n",
    "\n",
    "# the number '10' in the randint function is to use the numbers 0 to 9 as the data range from which to produce the random numbers\n",
    "# size relates to the number of random numbers to generate.\n",
    "np.random.randint(10, size=5)\n"
   ]
  },
  {
   "cell_type": "code",
   "execution_count": 3,
   "metadata": {},
   "outputs": [
    {
     "name": "stdout",
     "output_type": "stream",
     "text": [
      "0.4274673539203483\n",
      "[[ 0.52932638  0.14991324  0.19024152]\n",
      " [ 0.66627402  0.51587665  0.84764012]]\n",
      "[[-0.4448676  -0.34227554  0.99131679]\n",
      " [ 0.60169983  1.17098878 -1.24250676]]\n"
     ]
    }
   ],
   "source": [
    "## rand() function : Returns random numbers which are only in the range 0 to 1 in a given shape\n",
    "print(np.random.rand())\n",
    "\n",
    "# To get results in a 2*3 matrix format, then need to add in the argument '(2,3)' to the function for this example. \n",
    "print(np.random.rand(2,3))\n",
    "\n",
    "# The function randn() generates random numbers which are only in the range 0 to 1 in a given shape plus the numbers follow in a simple normal distribution.\n",
    "# Note a minus number is now included as a result.\n",
    "print(np.random.randn(2,3))"
   ]
  },
  {
   "cell_type": "markdown",
   "metadata": {},
   "source": [
    "#### Explanation of the function 'permutations'.\n",
    "The function 'permutation' calculates the number of combinations for a given range of numbers, for example 0 to 10 which will have 100 combinations (10x10) and returns one of the combinations which it has randomly selected. This output would be the same every time for a pre-defined array.\n",
    "\n",
    "The 'shuffle' function is included as part of the 'permutation' function but it can also be used separately to mix up a pre ordered list of data and would return different values for a pre-defined array. \n",
    "\n",
    "Reference : https://docs.scipy.org/doc/numpy/reference/generated/numpy.random.permutation.html"
   ]
  },
  {
   "cell_type": "code",
   "execution_count": 4,
   "metadata": {},
   "outputs": [
    {
     "data": {
      "text/plain": [
       "array([2, 5, 7, 1, 8, 3, 4, 0, 9, 6])"
      ]
     },
     "execution_count": 4,
     "metadata": {},
     "output_type": "execute_result"
    }
   ],
   "source": [
    "# Permutation function\n",
    "np.random.permutation(10)\n",
    " "
   ]
  },
  {
   "cell_type": "code",
   "execution_count": 5,
   "metadata": {},
   "outputs": [
    {
     "name": "stdout",
     "output_type": "stream",
     "text": [
      "[1, 7, 3, 9, 8, 2, 0, 4, 5, 6]\n"
     ]
    }
   ],
   "source": [
    "# Shuffle function\n",
    "# 1st need to specify an array\n",
    "\n",
    "array = [0,1,2,3,4,5,6,7,8,9]\n",
    "np.random.shuffle(array)\n",
    "print(array)"
   ]
  },
  {
   "cell_type": "markdown",
   "metadata": {},
   "source": [
    " #### Explain the use and purposes of at least 5 'Distributions' functions\n",
    " \n",
    " I have chosen the following 5 : normal, exponential, binomial, uniform and chi-squared.\n",
    " \n",
    " ##### (1) Normal (standard) Normal dsitribution\n",
    " \n",
    " In statistics, normal distribution of data is used the most and a lot of other distributions are based on it also. It can be referred to as the 'bell curve' or the 'Gaussian curve' named after Karl Gauss who was a mathematician and was instrumental in its devlopment but it was Abraham de Moivre who first discovered the normal distribution. There is no one normal distribution as they can have both the same or different means and standard deviations.\n",
    "In normal distributions, the data is displayed symmetrically where more values are at the center of the distribution in comparison to it's left and right extremes, also called tails. \n",
    "\n",
    "Ten features of normal distributions are as follows :\n",
    " - (1) Outlier data points and abnormal data are easier to manage. \n",
    " - (2) Normal distributions are symmetric around their mean.\n",
    " - (3) The mean, median, and mode of a normal distribution are equal.\n",
    " - (4) The area under the normal curve is 1.0.\n",
    " - (5) Normal distributions are denser in the middle and less so towards the left and right extremes.\n",
    " - (6) Normal distributions are epressd in terms of the mean (μ) and standard deviation (σ).\n",
    " - (7) 68% of the data under the curve area belongs to the first standard deviation. \n",
    " - (8) Circa 95% of data under the curve area represents the second standard deviations.\n",
    " - (9) 99.7% of data under the curve area represents the third standard deviation.\n",
    " - (10) A Z score is used to interpret a standard normal distribution which is the number of standard deviations a data point is below or above the mean. A Z score which is positive displays a point is higher than the average and a Z score which is negative represents a data poiint lower than the average.\n",
    "\n",
    "Reference : http://onlinestatbook.com/2/normal_distribution/intro.html\n",
    "\n",
    "![image.png](attachment:image.png)\n",
    "\n",
    "\n",
    "\n",
    "Purposes of normal distributions : \n",
    " - Find out the top 1%, 5%, 10% or bottom 10% of the data, for example the top 1% of students with high marks in a class. \n",
    " - In medical field used for various analysis. For example, according to WHO a baby's birth weight is strongly associated with mortality risk during the first year and, also less so with developmental problems in childhood and the probability at risk of different diseases when an adult. \n",
    "https://www.healthknowledge.org.uk/public-health-textbook/research-methods/1b-statistical-methods/statistical-distributions\n",
    "\n",
    "\n",
    " - Also in medical field, used to set upper and lower limits to data distributon. For example the acceptable blood presure reading. \n",
    " "
   ]
  },
  {
   "cell_type": "code",
   "execution_count": 6,
   "metadata": {},
   "outputs": [
    {
     "data": {
      "image/png": "[encoded data removed]",
      "text/plain": [
       "<matplotlib.figure.Figure at 0x2b9d9dae0b8>"
      ]
     },
     "metadata": {},
     "output_type": "display_data"
    }
   ],
   "source": [
    "# NumpY package for standardnormal function\n",
    "# a = np.random.standard_normal(100)\n",
    "\n",
    "# the number '100' in to use the numbers 0 to 100 as the data range from which to produce the normal distribution. \n",
    "# data below is used to store the result of the function\n",
    "a = np.random.standard_normal(100)\n",
    "\n",
    "# Use of Matplotlib to display the result\n",
    "import matplotlib.pyplot as plt\n",
    "\n",
    "# From SKleran library to import scipy.stats as stats\n",
    "import scipy.stats as stats\n",
    "fit = stats.norm.pdf(a, np.mean(a), np.std(a))\n",
    "#this is to get the mean and the std dev to chart the data\n",
    "plt.plot(a,fit,'o')\n",
    "plt.show()\n",
    "\n"
   ]
  },
  {
   "cell_type": "markdown",
   "metadata": {},
   "source": [
    " \n",
    "##### (2) Exponential Distribution\n",
    "\n",
    "The exponential distribution is associated mostly with measuring time until a certain event takes place. For example, the length of time on a phonecall, starting form now. It can only measure positive values. \n",
    "\n",
    "Purposes of Exponential Distributions :\n",
    " - Product reliability, time between services.\n",
    " - Measure length of time between train arrivals.\n",
    " - Measure life expectancy of a person or appliance. \n",
    " - Many Insureance companies use this didstribution for its ease of use. \n",
    "\n",
    "References : \n",
    "https://bigdata-madesimple.com/how-to-implement-these-5-powerful-probability-distributions-in-python/\n",
    "https://simple.wikipedia.org/wiki/Exponential_distribution\n",
    "https://courses.lumenlearning.com/introstats1/chapter/the-exponential-distribution/"
   ]
  },
  {
   "cell_type": "code",
   "execution_count": 7,
   "metadata": {},
   "outputs": [
    {
     "name": "stdout",
     "output_type": "stream",
     "text": [
      "[  0.40779947   6.53820105   0.75372119   3.2825668    5.48980751\n",
      "   0.60319614   2.76010492   1.15841772   0.23458078  16.36147484\n",
      "   0.40340756   0.13215014   2.23486984   1.06266951   0.84002014\n",
      "   0.89035101   0.44410427   0.48580195   1.619946    11.77356162\n",
      "   0.96299714   1.19831312   0.42306908   0.88010161   1.03576638\n",
      "   0.59549195   0.75442005   0.8111284    6.39264573   6.2586768\n",
      "   9.9210957    0.71360495   2.31612945   2.36217741   0.53903876\n",
      "   3.20712051   1.62981546   2.17534237   1.07310354   1.04066099\n",
      "   0.08573475   0.19067415   1.34677697   2.19522209   7.77182243\n",
      "   5.289657     0.80485016   2.36728581   0.6147692    0.849116\n",
      "   3.87489237   0.48935687   0.93077887   2.16738819   1.7339514\n",
      "   2.64130145   2.26276713   1.02452892   1.30650193   2.24830052\n",
      "   0.45354818   0.49997731   1.21475035   5.27153792   0.53578733\n",
      "   2.82452214   4.61725483   0.17994673   1.78355568   0.47294578\n",
      "   3.73350448   6.20472497   4.25300643   0.30968979   0.05839854\n",
      "   2.96670407   0.78022786   1.33013362   3.60327638   2.13697181\n",
      "   0.08553927   0.77867494   1.83998784   2.87375116   4.41599886\n",
      "   0.27939557   5.40290096   2.8441474    3.12089138   3.45147915\n",
      "   0.23275504   0.46387214   1.34321511   4.84166588   0.56143353\n",
      "   0.88139511   0.4874597    1.50215902   3.64478156   2.05039348]\n"
     ]
    },
    {
     "data": {
      "image/png": "[encoded data removed]",
      "text/plain": [
       "<matplotlib.figure.Figure at 0x2b9d9d91a90>"
      ]
     },
     "metadata": {},
     "output_type": "display_data"
    }
   ],
   "source": [
    "# NumpY package Exponential function\n",
    "# a = np.random.exponential(2,100)\n",
    "\n",
    "# The exponential function required 2 values\\arguments.\n",
    "# (2,100) means that it will start generating numbers following the exponential distribution from 2\n",
    "# 100 is the size of the list.\n",
    "a = np.random.exponential(2,100)\n",
    "print(a)\n",
    "\n",
    "# Use of Matplotlib to display the result\n",
    "import matplotlib.pyplot as plt\n",
    "\n",
    "# From SKleran library to import scipy.stats as stats\n",
    "import scipy.stats as stats\n",
    "fit = stats.expon.pdf(a, np.mean(a), np.std(a))\n",
    "#this is to get the mean and the std dev to chart the data\n",
    "plt.plot(a,fit,'o')\n",
    "plt.show()\n"
   ]
  },
  {
   "cell_type": "markdown",
   "metadata": {},
   "source": [
    "##### (3) Binomial Distribution\n",
    "\n",
    "Binomial probability distributions are used when there are just two results possible, for example yes or no, pass or fail and heads or tails on a coin with the probability of the coin landing heads is equal to that of tails. Also each time the scenario is tested, is like the first time with an equal chance of outcome.\n",
    "\n",
    "Purposes of Binomial Distributions : \n",
    " - Medical field, to measure the probability of the success rate of a new drug, i.e. success or failure\n",
    "  \n",
    "\n",
    "References :\n",
    "https://stattrek.com/probability-distributions/binomial.aspx?tutorial=prob\n",
    "https://www.healthknowledge.org.uk/public-health-textbook/research-methods/1b-statistical-methods/statistical-distributions"
   ]
  },
  {
   "cell_type": "code",
   "execution_count": 24,
   "metadata": {},
   "outputs": [
    {
     "name": "stdout",
     "output_type": "stream",
     "text": [
      "[234 250 234 237 248 243 240 266 243 252 241 220 268 247 263 247 240 242\n",
      " 260 249 245 246 259 257 226 245 256 255 261 255 238 258 245 241 257 248\n",
      " 249 229 253 254 264 240 270 247 248 239 245 254 253 237 252 239 250 272\n",
      " 241 265 248 260 247 252 251 246 259 241 240 247 253 272 234 237 273 248\n",
      " 231 239 264 258 246 262 262 252 271 244 257 231 259 237 249 248 234 227\n",
      " 229 253 262 268 241 258 238 257 256 251]\n"
     ]
    }
   ],
   "source": [
    "# Binomial function in NumPy package\n",
    "# np.random.binomial(500, 0.5, size=100)\n",
    "\n",
    "# Binomial function requires the following:\n",
    "# The number of samples, set at 100 = n\n",
    "# The probability of the event outcome (succes or failure) set at 50% = p\n",
    "# The number of times to run the experiment, set at 100 = size\n",
    "\n",
    "n = 100\n",
    "p = 0.5\n",
    "size = 100\n",
    "\n",
    "tests = np.random.binomial(500, 0.5, size=100)\n",
    "print(tests)\n",
    "\n",
    "# The result is 10000 randomly selected \n",
    "# experiments from the distribution\n",
    "# [241, 262, ..., 248, 255, 235]\n"
   ]
  },
  {
   "cell_type": "code",
   "execution_count": 9,
   "metadata": {},
   "outputs": [],
   "source": [
    "# Ploting the output\n",
    "# From SKleran library import scipy.stats as stats\n",
    "import scipy.stats as b\n",
    "from scipy.stats import binom\n",
    "\n",
    "# fit = b.binom.ppf(100,0.5)\n",
    "\n",
    "#this is to get the mean and the std dev to chart the data\n",
    "# plt.plot(tests,fit,'o')\n",
    "# plt.show()\n"
   ]
  },
  {
   "cell_type": "code",
   "execution_count": 23,
   "metadata": {},
   "outputs": [
    {
     "data": {
      "image/png": "[encoded data removed]",
      "text/plain": [
       "<matplotlib.figure.Figure at 0x2b9dcd74710>"
      ]
     },
     "metadata": {},
     "output_type": "display_data"
    }
   ],
   "source": [
    "fig, ax = plt.subplots(1, 1)\n",
    "\n",
    "# PPF Percentage Point Function also known as the distribution function\n",
    "x = np.arange(binom.ppf(0.08, n, p),binom.ppf(0.92, n, p))\n",
    "\n",
    "ax.plot(x, binom.pmf(x, n, p), 'bo')\n",
    "ax.vlines(x, 0, binom.pmf(x, n, p), colors='r')\n",
    "plt.show()"
   ]
  },
  {
   "cell_type": "markdown",
   "metadata": {},
   "source": [
    "##### (4) Uniform distribution\n",
    "\n",
    "Uniform probability distributions are used when all outputs have an equal opportunity of being selected. Rolling a dice is an example where each time it is rolled, there is a 1 in 6 chance of any one of the numbers 1 - 6 appearing. Therefore 1 is the minimum and 6 is the maximum.\n",
    "\n",
    "Purposes of Uniform distributions :\n",
    " - Risk and decision making analysis\n",
    " \n",
    " Reference : https://blog.palisade.com/2008/12/23/uses-of-the-uniform-continuous-distribution/"
   ]
  },
  {
   "cell_type": "code",
   "execution_count": 56,
   "metadata": {},
   "outputs": [
    {
     "name": "stdout",
     "output_type": "stream",
     "text": [
      "[-0.00940491 -0.60985593 -0.01680266 ..., -0.60805737 -0.9667238\n",
      " -0.43498916]\n"
     ]
    }
   ],
   "source": [
    "# Uniform distribution function in NumPpy package\n",
    "# np.random.uniform\n",
    "\n",
    "# Uniform distribution requires a minmum and maximum\n",
    "# o = minimum; 100 = maximum \n",
    "# 1000 = number of outputs\n",
    "u = np.random.uniform(-1,0,10000)\n",
    "print(u)"
   ]
  },
  {
   "cell_type": "code",
   "execution_count": 57,
   "metadata": {},
   "outputs": [
    {
     "data": {
      "image/png": "[encoded data removed]",
      "text/plain": [
       "<matplotlib.figure.Figure at 0x2b9dce4abe0>"
      ]
     },
     "metadata": {},
     "output_type": "display_data"
    }
   ],
   "source": [
    "# Ploting the outputs\n",
    "\n",
    "count, bins, ignored = plt.hist(u, 15, density=True)\n",
    "plt.plot(bins, np.ones_like(bins), linewidth=2, color='r')\n",
    "plt.show()"
   ]
  },
  {
   "cell_type": "markdown",
   "metadata": {
    "collapsed": true
   },
   "source": [
    " \n",
    "##### (5) Chi-squared distribution\n",
    "\n",
    "Chi squared distributions are based on the same family as normal distribution and used to review data which has been classified. It is used alot as it is relatively easy to show that given ceratin circumstances, other probability distributions come close to it. \n",
    "\n",
    "Purposes of Chi-squared distributions : \n",
    "  - Medical field to test the efficacy of a new drug between a control group taking a placebo versus another group taking the drug.  \n",
    " https://stattrek.com/probability-distributions/chi-square.aspx?tutorial=prob\n",
    " "
   ]
  },
  {
   "cell_type": "code",
   "execution_count": 66,
   "metadata": {},
   "outputs": [],
   "source": [
    "# Chi Squared funtion in Numpy package\n",
    "# numpy.random.chisquare\n",
    "\n",
    "# Chi squared requires theh folowing:\n",
    "# degrees of freedom = 1\n",
    "# the size of the outputs\\datapoints = 100\n",
    "\n",
    "c=np.random.chisquare(1, 100)"
   ]
  },
  {
   "cell_type": "code",
   "execution_count": 67,
   "metadata": {},
   "outputs": [
    {
     "data": {
      "image/png": "[encoded data removed]",
      "text/plain": [
       "<matplotlib.figure.Figure at 0x2b9dcc1c198>"
      ]
     },
     "metadata": {},
     "output_type": "display_data"
    }
   ],
   "source": [
    "# Plot the outputs\n",
    "\n",
    "# From SKleran library to import scipy.stats as stats\n",
    "import scipy.stats as stats\n",
    "fit = stats.chi.pdf(c, np.mean(c), np.std(c))\n",
    "#this is to get the mean and the std dev to chart the data\n",
    "plt.plot(c,fit,'o')\n",
    "plt.show()"
   ]
  },
  {
   "cell_type": "markdown",
   "metadata": {
    "collapsed": true
   },
   "source": [
    "#### Explain the use of seeds in generating pseudorandom numbers.\n",
    "\n",
    "Seeds are used to allow the pseudo-random number generator to be \"locked\" or set to a particular value. This allows for analysis to be re-run by a different person so that the results can be verified. \n",
    "Seeds can be set by a using a true random-number generator (TRNG) to create the first seed value, and then this is the 'locked' or set value. \n",
    "\n",
    "Reference : https://stats.stackexchange.com/questions/354373/what-exactly-is-a-seed-in-a-random-number-generator"
   ]
  },
  {
   "cell_type": "code",
   "execution_count": null,
   "metadata": {},
   "outputs": [],
   "source": [
    "# Example below of sets(aka seeds) the pseudorandom number generator  = 1, then creates 3 random numbers,\n",
    "# it resets (aka seeds) the generator, and displays that the 3 random numbers are created the same both time. \n",
    "\n",
    "# seed the pseudorandom number generator\n",
    "from random import seed\n",
    "from random import random\n",
    "# seed random number generator\n",
    "seed(1)\n",
    "# generate some random numbers\n",
    "print(random(), random(), random())\n",
    "# reset the seed\n",
    "seed(1)\n",
    "# generate some random numbers\n",
    "print(random(), random(), random())"
   ]
  },
  {
   "cell_type": "code",
   "execution_count": null,
   "metadata": {},
   "outputs": [],
   "source": [
    "# In comparison, using the shuffle function as in example above when explaining permutations gives different results every time.\n",
    "\n",
    "# Shuffle function\n",
    "# 1st need to specify an array\n",
    "\n",
    "array = [0,1,2,3,4,5,6,7,8,9]\n",
    "np.random.shuffle(array)\n",
    "print(array)"
   ]
  }
 ],
 "metadata": {
  "kernelspec": {
   "display_name": "Python 3",
   "language": "python",
   "name": "python3"
  },
  "language_info": {
   "codemirror_mode": {
    "name": "ipython",
    "version": 3
   },
   "file_extension": ".py",
   "mimetype": "text/x-python",
   "name": "python",
   "nbconvert_exporter": "python",
   "pygments_lexer": "ipython3",
   "version": "3.6.3"
  }
 },
 "nbformat": 4,
 "nbformat_minor": 2
}
