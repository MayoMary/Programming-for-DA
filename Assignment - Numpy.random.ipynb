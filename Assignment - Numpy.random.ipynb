{
 "cells": [
  {
   "cell_type": "markdown",
   "metadata": {},
   "source": [
    "## Programming for Analytics assignment\n",
    "Mary McHale\n",
    "\n",
    "The assignment is based on using the numpy.random package in Python.\n",
    "\n",
    "#### Purpose of the package\n",
    "Numpy is the primary package used for performing scientific calculations(e.g. the generation of random numbers, linear algebra) and data analysis in Python. The Numpy name is short for Numerical Python. NumPy includes:\n",
    "\n",
    " - Standard mathematical functions (e.g. addition, subtraction, multiplication and division) for quick calculations on entire arrays of data. The advantage of NumPy is that it has functions to do this in one step, otherwise Python could only perform this by using loops and for large data, this would use up a lot of memory and time to get the required result.\n",
    " \n",
    " - ndarray, a key feature, a fast and adaptable container for large data sets in Python where 'nd' denotes the dimension size.\n",
    " \n",
    " - NumPy can be used with other Python packages quite eaasily for higher level data analytical functionality\n",
    " \n",
    "References : \n",
    "https://www.oreilly.com/library/view/python-for-data/9781449323592/ch04.html\n",
    "http://numba.pydata.org/numba-doc/0.19.1/reference/numpysupported.html\n",
    "http://cs231n.github.io/python-numpy-tutorial/\n",
    "file:///C:/Users/Mary/Downloads/Numpy.pdf\n",
    "\n",
    "#### Explanation of the function 'simple random data'.\n",
    "\n",
    "The purpose of the 'simple random data' function is to produce a sample from a larger set of data where all data points are equal and have the same chance of being selected. \n",
    "https://www.investopedia.com/terms/s/simple-random-sample.asp\n",
    "\n",
    "There are ten types of functions in NumPy to create 'simple random data', each with diferent purposes. Of these, I will explain the following 3 - randint(), rand() and randn().\n",
    "\n",
    "Reference : https://docs.scipy.org/doc/numpy-1.14.0/reference/generated/numpy.random.normal.html"
   ]
  },
  {
   "cell_type": "code",
   "execution_count": 3,
   "metadata": {
    "collapsed": true
   },
   "outputs": [],
   "source": [
    "# Importing NumPy library\n",
    "# np is the alias for NumPy\n",
    "import numpy as np"
   ]
  },
  {
   "cell_type": "code",
   "execution_count": 22,
   "metadata": {},
   "outputs": [
    {
     "data": {
      "text/plain": [
       "array([0, 5, 9, 1, 5])"
      ]
     },
     "execution_count": 22,
     "metadata": {},
     "output_type": "execute_result"
    }
   ],
   "source": [
    "# Simple random data function in NumPy package\n",
    "# np.random.randint(10, size=5)\n",
    "\n",
    "# the number '10' in the randint function is to use the numbers 0 to 9 as the data range from which to produce the random numbers\n",
    "# size relates to the number of random numbers to generate.\n",
    "\n",
    "np.random.randint(10, size=5)\n"
   ]
  },
  {
   "cell_type": "code",
   "execution_count": 5,
   "metadata": {},
   "outputs": [
    {
     "name": "stdout",
     "output_type": "stream",
     "text": [
      "0.7266553933237871\n",
      "[[ 0.53600941  0.371515    0.20352574]\n",
      " [ 0.69984811  0.64105562  0.36650774]]\n",
      "[[ 0.71905992  0.15941057 -0.93220298]\n",
      " [-0.45979272 -1.95768321 -0.8415895 ]]\n"
     ]
    }
   ],
   "source": [
    "## rand() function : Returns random numbers which are only in the range 0 to 1 in a given shape\n",
    "print(np.random.rand())\n",
    "\n",
    "# To get results in a 2*3 matrix format, then need to add in the argument '(2,3)' to the function for this example. \n",
    "print(np.random.rand(2,3))\n",
    "\n",
    "# The function randn() generates random numbers which are only in the range 0 to 1 in a given shape plus the numbers follow in a simple normal distribution.\n",
    "# Note a minus number is now included as a result.\n",
    "print(np.random.randn(2,3))"
   ]
  },
  {
   "cell_type": "markdown",
   "metadata": {},
   "source": [
    "#### Explanation of the function 'permutations'.\n",
    "The function 'permutation' calculates the number of combinations for a given range of numbers, for example 0 to 10 which will have 100 combinations (10x10) and returns one of the combinations which it has randomly selected. This output would be the same every time for a pre-defined array.\n",
    "\n",
    "The 'shuffle' function is included as part of the 'permutation' function but it can also be used separately to mix up a pre ordered list of data and would return different values for a pre-defined array. \n",
    "\n",
    "Reference : https://docs.scipy.org/doc/numpy/reference/generated/numpy.random.permutation.html"
   ]
  },
  {
   "cell_type": "code",
   "execution_count": 21,
   "metadata": {},
   "outputs": [
    {
     "data": {
      "text/plain": [
       "array([3, 8, 0, 6, 9, 4, 1, 5, 7, 2])"
      ]
     },
     "execution_count": 21,
     "metadata": {},
     "output_type": "execute_result"
    }
   ],
   "source": [
    "# Permutation function in NumPy package\n",
    "np.random.permutation(10)\n",
    " "
   ]
  },
  {
   "cell_type": "code",
   "execution_count": 7,
   "metadata": {},
   "outputs": [
    {
     "name": "stdout",
     "output_type": "stream",
     "text": [
      "[7, 9, 8, 3, 5, 1, 0, 2, 6, 4]\n"
     ]
    }
   ],
   "source": [
    "# Shuffle function\n",
    "# 1st need to specify an array\n",
    "\n",
    "array = [0,1,2,3,4,5,6,7,8,9]\n",
    "np.random.shuffle(array)\n",
    "print(array)"
   ]
  },
  {
   "cell_type": "markdown",
   "metadata": {},
   "source": [
    " #### Explain the use and purposes of at least 5 'Distributions' functions\n",
    " \n",
    " I have chosen the following 5 : normal, exponential, binomial, uniform and chi-squared.\n",
    " \n",
    " ##### (1) Normal (standard) Normal dsitribution\n",
    " \n",
    " In statistics, normal distribution of data is used the most and a lot of other distributions are based on it also. It can be referred to as the 'bell curve' or the 'Gaussian curve' named after Karl Gauss who was a mathematician and was instrumental in its devlopment but it was Abraham de Moivre who first discovered the normal distribution. There is no one normal distribution as they can have both the same or different means and standard deviations.\n",
    "In normal distributions, the data is displayed symmetrically where more values are at the center of the distribution in comparison to it's left and right extremes, also called tails. \n",
    "\n",
    "Ten features of normal distributions are as follows :\n",
    " - (1) Outlier data points and abnormal data are easier to manage. \n",
    " - (2) Normal distributions are symmetric around their mean.\n",
    " - (3) The mean, median, and mode of a normal distribution are equal.\n",
    " - (4) The area under the normal curve is 1.0.\n",
    " - (5) Normal distributions are denser in the middle and less so towards the left and right extremes.\n",
    " - (6) Normal distributions are epressd in terms of the mean (μ) and standard deviation (σ).\n",
    " - (7) 68% of the data under the curve area belongs to the first standard deviation. \n",
    " - (8) Circa 95% of data under the curve area represents the second standard deviations.\n",
    " - (9) 99.7% of data under the curve area represents the third standard deviation.\n",
    " - (10) A Z score is used to interpret a standard normal distribution which is the number of standard deviations a data point is below or above the mean. A Z score which is positive displays a point is higher than the average and a Z score which is negative represents a data poiint lower than the average.\n",
    "\n",
    "Reference : http://onlinestatbook.com/2/normal_distribution/intro.html\n",
    "\n",
    "![image.png](attachment:image.png)\n",
    "\n",
    "\n",
    "\n",
    "Purposes of normal distributions : \n",
    " - Find out the top 1%, 5%, 10% or bottom 10% of the data, for example the top 1% of students with high marks in a class. \n",
    " - In medical field used for various analysis. For example, according to WHO a baby's birth weight is strongly associated with mortality risk during the first year and, also less so with developmental problems in childhood and the probability at risk of different diseases when an adult. \n",
    "https://www.healthknowledge.org.uk/public-health-textbook/research-methods/1b-statistical-methods/statistical-distributions\n",
    "\n",
    "\n",
    " - Also in medical field, used to set upper and lower limits to data distributon. For example the acceptable blood presure reading. \n",
    " "
   ]
  },
  {
   "cell_type": "code",
   "execution_count": 23,
   "metadata": {},
   "outputs": [
    {
     "data": {
      "image/png": "[encoded data removed]",
      "text/plain": [
       "<matplotlib.figure.Figure at 0x2001d675080>"
      ]
     },
     "metadata": {},
     "output_type": "display_data"
    }
   ],
   "source": [
    "# standardnormal function in NumpY package\n",
    "# a = np.random.standard_normal(100)\n",
    "\n",
    "# the number '100' in to use the numbers 0 to 100 as the data range from which to produce the normal distribution. \n",
    "# data below is used to store the result of the function\n",
    "a = np.random.standard_normal(100)\n",
    "\n",
    "# Use of Matplotlib to display the result\n",
    "import matplotlib.pyplot as plt\n",
    "\n",
    "# From SKleran library to import scipy.stats as stats\n",
    "import scipy.stats as stats\n",
    "fit = stats.norm.pdf(a, np.mean(a), np.std(a))\n",
    "#this is to get the mean and the std dev to chart the data\n",
    "plt.plot(a,fit,'o')\n",
    "plt.show()\n",
    "\n"
   ]
  },
  {
   "cell_type": "markdown",
   "metadata": {},
   "source": [
    " \n",
    "##### (2) Exponential Distribution\n",
    "\n",
    "The exponential distribution is associated mostly with measuring time until a certain event takes place. For example, the length of time on a phonecall, starting form now. It can only measure positive values. \n",
    "\n",
    "Purposes of Exponential Distributions :\n",
    " - Product reliability, time between services.\n",
    " - Measure length of time between train arrivals.\n",
    " - Measure life expectancy of a person or appliance. \n",
    " - Many Insureance companies use this didstribution for its ease of use. \n",
    "\n",
    "References : \n",
    "https://bigdata-madesimple.com/how-to-implement-these-5-powerful-probability-distributions-in-python/\n",
    "https://simple.wikipedia.org/wiki/Exponential_distribution\n",
    "https://courses.lumenlearning.com/introstats1/chapter/the-exponential-distribution/"
   ]
  },
  {
   "cell_type": "code",
   "execution_count": 24,
   "metadata": {},
   "outputs": [
    {
     "name": "stdout",
     "output_type": "stream",
     "text": [
      "[  7.5240728    0.04442891   0.50782002   2.99903003   0.73727681\n",
      "   2.8689449    1.20626242   0.24247447   1.18808067  10.20062849\n",
      "   4.95339424   0.49118943   4.7193953    0.60604423   5.29022102\n",
      "   0.79954031   0.31597995   1.14543887   0.24073549   5.34121979\n",
      "   0.07137082   4.17575113   0.79586538   1.85922478   0.44564356\n",
      "   4.0360186    3.34093736   2.22887528   2.77363205   0.10596217\n",
      "   0.20667073   6.39636297   0.8350408    2.43899531   3.20440345\n",
      "   1.83596616   1.05753422   2.57142584   4.80829067   6.27780376\n",
      "   1.10360972   2.13395622   2.34816485   1.5672711    0.84693359\n",
      "   1.17391609   0.19363403   0.45408097   1.94618772   0.93448511\n",
      "   0.99580865   4.67076115   0.44033492   0.79192383   0.5468034\n",
      "   1.84084723   1.4396244    3.37145133   0.21131802   2.63543653\n",
      "   2.47205205   2.80905013   0.93897778   4.51731154   0.14185975\n",
      "   3.58939228   3.33802972   0.08713966   3.09605468   3.96801255\n",
      "   4.18818597   0.48987309   8.54180627   3.15727947   0.01948952\n",
      "   4.25937461   1.05570415   0.84675663   6.08185797   6.87492098\n",
      "   1.03116977   2.55528847   3.83567814   0.31748813   0.07046941\n",
      "   0.09396243   2.04267744   5.17412171   2.22513448   0.3164724\n",
      "   0.45923418   0.44490226   2.57198483   0.44204823   4.9277561\n",
      "   0.65776231   0.93925399   1.72421771   0.68532572   4.67562682]\n"
     ]
    },
    {
     "data": {
      "image/png": "[encoded data removed]",
      "text/plain": [
       "<matplotlib.figure.Figure at 0x2001dae1668>"
      ]
     },
     "metadata": {},
     "output_type": "display_data"
    }
   ],
   "source": [
    "# Exponential function in NumpY package \n",
    "# a = np.random.exponential(2,100)\n",
    "\n",
    "# The exponential function required 2 values\\arguments.\n",
    "# (2,100) means that it will start generating numbers following the exponential distribution from 2\n",
    "# 100 is the size of the list.\n",
    "a = np.random.exponential(2,100)\n",
    "print(a)\n",
    "\n",
    "# Use of Matplotlib to display the result\n",
    "import matplotlib.pyplot as plt\n",
    "\n",
    "# From SKleran library to import scipy.stats as stats\n",
    "import scipy.stats as stats\n",
    "fit = stats.expon.pdf(a, np.mean(a), np.std(a))\n",
    "#this is to get the mean and the std dev to chart the data\n",
    "plt.plot(a,fit,'o')\n",
    "plt.show()\n"
   ]
  },
  {
   "cell_type": "markdown",
   "metadata": {},
   "source": [
    "##### (3) Binomial Distribution\n",
    "\n",
    "Binomial probability distributions are used when there are just two results possible, for example yes or no, pass or fail and heads or tails on a coin with the probability of the coin landing heads is equal to that of tails. Also each time the scenario is tested, is like the first time with an equal chance of outcome.\n",
    "\n",
    "Purposes of Binomial Distributions : \n",
    " - Medical field, to measure the probability of the success rate of a new drug, i.e. success or failure\n",
    "  \n",
    "\n",
    "References :\n",
    "https://stattrek.com/probability-distributions/binomial.aspx?tutorial=prob\n",
    "https://www.healthknowledge.org.uk/public-health-textbook/research-methods/1b-statistical-methods/statistical-distributions"
   ]
  },
  {
   "cell_type": "code",
   "execution_count": 10,
   "metadata": {},
   "outputs": [
    {
     "name": "stdout",
     "output_type": "stream",
     "text": [
      "[244 270 245 250 260 266 267 214 268 246 238 267 235 250 248 253 239 255\n",
      " 254 248 254 254 240 258 251 263 243 239 246 249 255 255 258 263 276 251\n",
      " 259 261 233 255 239 260 235 251 264 230 249 265 248 251 257 264 260 242\n",
      " 249 245 269 249 251 255 245 251 258 235 254 254 238 261 260 254 281 262\n",
      " 251 251 259 254 224 259 248 219 246 259 255 241 239 255 244 249 272 241\n",
      " 243 243 271 228 252 239 267 259 262 242]\n"
     ]
    }
   ],
   "source": [
    "# Binomial function in NumPy package\n",
    "# np.random.binomial(500, 0.5, size=100)\n",
    "\n",
    "# Binomial function requires the following:\n",
    "# The number of samples, set at 100 = n\n",
    "# The probability of the event outcome (succes or failure) set at 50% = p\n",
    "# The number of times to run the experiment, set at 100 = size\n",
    "\n",
    "n = 100\n",
    "p = 0.5\n",
    "size = 100\n",
    "\n",
    "tests = np.random.binomial(500, 0.5, size=100)\n",
    "print(tests)\n",
    "\n",
    "# The result is 10000 randomly selected \n",
    "# experiments from the distribution\n",
    "# [241, 262, ..., 248, 255, 235]\n"
   ]
  },
  {
   "cell_type": "code",
   "execution_count": 11,
   "metadata": {
    "collapsed": true
   },
   "outputs": [],
   "source": [
    "# Ploting the output\n",
    "# From SKleran library import scipy.stats as stats\n",
    "import scipy.stats as b\n",
    "from scipy.stats import binom\n",
    "\n",
    "# fit = b.binom.ppf(100,0.5)\n",
    "\n",
    "#this is to get the mean and the std dev to chart the data\n",
    "# plt.plot(tests,fit,'o')\n",
    "# plt.show()\n"
   ]
  },
  {
   "cell_type": "code",
   "execution_count": 12,
   "metadata": {},
   "outputs": [
    {
     "data": {
      "image/png": "[encoded data removed]",
      "text/plain": [
       "<matplotlib.figure.Figure at 0x2001d67af60>"
      ]
     },
     "metadata": {},
     "output_type": "display_data"
    }
   ],
   "source": [
    "fig, ax = plt.subplots(1, 1)\n",
    "\n",
    "# PPF Percentage Point Function also known as the distribution function\n",
    "x = np.arange(binom.ppf(0.08, n, p),binom.ppf(0.92, n, p))\n",
    "\n",
    "ax.plot(x, binom.pmf(x, n, p), 'bo')\n",
    "ax.vlines(x, 0, binom.pmf(x, n, p), colors='r')\n",
    "plt.show()"
   ]
  },
  {
   "cell_type": "markdown",
   "metadata": {},
   "source": [
    "##### (4) Uniform distribution\n",
    "\n",
    "Uniform probability distributions are used when all outputs have an equal opportunity of being selected. Rolling a dice is an example where each time it is rolled, there is a 1 in 6 chance of any one of the numbers 1 - 6 appearing. Therefore 1 is the minimum and 6 is the maximum.\n",
    "\n",
    "Purposes of Uniform distributions :\n",
    " - Risk and decision making analysis\n",
    " \n",
    " Reference : https://blog.palisade.com/2008/12/23/uses-of-the-uniform-continuous-distribution/"
   ]
  },
  {
   "cell_type": "code",
   "execution_count": 13,
   "metadata": {},
   "outputs": [
    {
     "name": "stdout",
     "output_type": "stream",
     "text": [
      "[-0.87397023 -0.7842368  -0.80215679 ..., -0.64080151 -0.33075601\n",
      " -0.02765183]\n"
     ]
    }
   ],
   "source": [
    "# Uniform distribution function in NumPpy package\n",
    "# np.random.uniform\n",
    "\n",
    "# Uniform distribution requires a minmum and maximum\n",
    "# o = minimum; 100 = maximum \n",
    "# 1000 = number of outputs\n",
    "u = np.random.uniform(-1,0,10000)\n",
    "print(u)"
   ]
  },
  {
   "cell_type": "code",
   "execution_count": 14,
   "metadata": {},
   "outputs": [
    {
     "data": {
      "image/png": "[encoded data removed]",
      "text/plain": [
       "<matplotlib.figure.Figure at 0x2001d728550>"
      ]
     },
     "metadata": {},
     "output_type": "display_data"
    }
   ],
   "source": [
    "# Ploting the outputs\n",
    "\n",
    "count, bins, ignored = plt.hist(u, 15, density=True)\n",
    "plt.plot(bins, np.ones_like(bins), linewidth=2, color='r')\n",
    "plt.show()"
   ]
  },
  {
   "cell_type": "markdown",
   "metadata": {
    "collapsed": true
   },
   "source": [
    " \n",
    "##### (5) Chi-squared distribution\n",
    "\n",
    "Chi squared distributions are based on the same family as normal distribution and used to review data which has been classified. It is used alot as it is relatively easy to show that given ceratin circumstances, other probability distributions come close to it. \n",
    "\n",
    "Purposes of Chi-squared distributions : \n",
    "  - Medical field to test the efficacy of a new drug between a control group taking a placebo versus another group taking the drug.  \n",
    " https://stattrek.com/probability-distributions/chi-square.aspx?tutorial=prob\n",
    " "
   ]
  },
  {
   "cell_type": "code",
   "execution_count": 15,
   "metadata": {
    "collapsed": true
   },
   "outputs": [],
   "source": [
    "# Chi Squared funtion in Numpy package\n",
    "# numpy.random.chisquare\n",
    "\n",
    "# Chi squared requires theh folowing:\n",
    "# degrees of freedom = 1\n",
    "# the size of the outputs\\datapoints = 100\n",
    "\n",
    "c=np.random.chisquare(1, 100)"
   ]
  },
  {
   "cell_type": "code",
   "execution_count": 16,
   "metadata": {},
   "outputs": [
    {
     "data": {
      "image/png": "[encoded data removed]",
      "text/plain": [
       "<matplotlib.figure.Figure at 0x2001d736eb8>"
      ]
     },
     "metadata": {},
     "output_type": "display_data"
    }
   ],
   "source": [
    "# Plot the outputs\n",
    "\n",
    "# From SKleran library to import scipy.stats as stats\n",
    "import scipy.stats as stats\n",
    "fit = stats.chi.pdf(c, np.mean(c), np.std(c))\n",
    "#this is to get the mean and the std dev to chart the data\n",
    "plt.plot(c,fit,'o')\n",
    "plt.show()"
   ]
  },
  {
   "cell_type": "markdown",
   "metadata": {
    "collapsed": true
   },
   "source": [
    "#### Explain the use of seeds in generating pseudorandom numbers.\n",
    "\n",
    "Seeds are used to allow the pseudo-random number generator to be \"locked\" or set to a particular value. This allows for analysis to be re-run by a different person so that the results can be verified. \n",
    "Seeds can be set by a using a true random-number generator (TRNG) to create the first seed value, and then this is the 'locked' or set value. \n",
    "\n",
    "Reference : https://stats.stackexchange.com/questions/354373/what-exactly-is-a-seed-in-a-random-number-generator"
   ]
  },
  {
   "cell_type": "code",
   "execution_count": 25,
   "metadata": {},
   "outputs": [
    {
     "name": "stdout",
     "output_type": "stream",
     "text": [
      "0.13436424411240122 0.8474337369372327 0.763774618976614\n",
      "0.13436424411240122 0.8474337369372327 0.763774618976614\n"
     ]
    }
   ],
   "source": [
    "# Example below of sets(aka seeds). The pseudorandom number generator  = 1, then creates 3 random numbers,\n",
    "# it resets (aka seeds) the generator, and displays that the 3 random numbers are created the same both time. \n",
    "\n",
    "# seed the pseudorandom number generator\n",
    "from random import seed\n",
    "from random import random\n",
    "# seed random number generator\n",
    "seed(1)\n",
    "# generate some random numbers\n",
    "print(random(), random(), random())\n",
    "# reset the seed\n",
    "seed(1)\n",
    "# generate some random numbers\n",
    "print(random(), random(), random())"
   ]
  },
  {
   "cell_type": "code",
   "execution_count": 18,
   "metadata": {},
   "outputs": [
    {
     "name": "stdout",
     "output_type": "stream",
     "text": [
      "[1, 6, 3, 2, 0, 9, 7, 8, 5, 4]\n"
     ]
    }
   ],
   "source": [
    "# In comparison, using the shuffle function gives different results every time as per example above when explaining permutations gives different results every time.\n",
    "\n",
    "# Shuffle function\n",
    "# 1st need to specify an array\n",
    "\n",
    "array = [0,1,2,3,4,5,6,7,8,9]\n",
    "np.random.shuffle(array)\n",
    "print(array)"
   ]
  }
 ],
 "metadata": {
  "kernelspec": {
   "display_name": "Python 3",
   "language": "python",
   "name": "python3"
  },
  "language_info": {
   "codemirror_mode": {
    "name": "ipython",
    "version": 3
   },
   "file_extension": ".py",
   "mimetype": "text/x-python",
   "name": "python",
   "nbconvert_exporter": "python",
   "pygments_lexer": "ipython3",
   "version": "3.6.3"
  }
 },
 "nbformat": 4,
 "nbformat_minor": 2
}
