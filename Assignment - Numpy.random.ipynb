{
 "cells": [
  {
   "cell_type": "markdown",
   "metadata": {},
   "source": [
    "## Programming for Analytics assignment\n",
    "Mary McHale\n",
    "\n",
    "The assignment is based on using the numpy.random package in Python.\n",
    "\n",
    "#### Purpose of the package\n",
    "Numpy is the primary package used for performing scientific calculations(e.g. the generation of random numbers, linear algebra) and data analysis in Python. The Numpy name is short for Numerical Python. NumPy includes:\n",
    "\n",
    " - Standard mathematical functions (e.g. addition, subtraction, multiplication and division) for quick calculations on entire arrays of data. The advantage of NumPy is that it has functions to do this in one step, otherwise Python could only perform this by using loops and for large data, this would use up a lot of memory and time to get the required result.\n",
    " \n",
    " - ndarray, a key feature, a fast and adaptable container for large data sets in Python where 'nd' denotes the dimension size.\n",
    " \n",
    " - NumPy can be used with other Python packages quite eaasily for higher level data analytical functionality\n",
    "References : \n",
    "https://www.oreilly.com/library/view/python-for-data/9781449323592/ch04.html\n",
    "http://numba.pydata.org/numba-doc/0.19.1/reference/numpysupported.html\n",
    "http://cs231n.github.io/python-numpy-tutorial/\n",
    "file:///C:/Users/Mary/Downloads/Numpy.pdf\n",
    "\n",
    "#### Explanation of the function 'simple random data'.\n",
    "\n",
    "The purpose of the 'simple random data' function is to produce a sample from a larger set of data where all data points are equal and have the same chance of being selected. \n",
    "https://www.investopedia.com/terms/s/simple-random-sample.asp\n",
    "\n",
    "There are ten types of functions in NumPy to create 'simple random data', each with diferent purposes. Of these, I will explain the following 3 - randint(), rand() and randn().\n",
    "\n",
    "Reference : https://docs.scipy.org/doc/numpy-1.14.0/reference/generated/numpy.random.normal.html"
   ]
  },
  {
   "cell_type": "code",
   "execution_count": 5,
   "metadata": {},
   "outputs": [
    {
     "data": {
      "text/plain": [
       "array([2, 9, 9, 1, 4])"
      ]
     },
     "execution_count": 5,
     "metadata": {},
     "output_type": "execute_result"
    }
   ],
   "source": [
    "## randint() function\n",
    "\n",
    "# the number '10' below is to use the numbers 0 to 9 as the data range from which to produce the random numbers\n",
    "# size relates to the number of random numbers to generate.\n",
    "np.random.randint(10, size=5)\n"
   ]
  },
  {
   "cell_type": "code",
   "execution_count": 12,
   "metadata": {},
   "outputs": [
    {
     "name": "stdout",
     "output_type": "stream",
     "text": [
      "0.44963751510721683\n",
      "[[ 0.53073371  0.26882054  0.52917205]\n",
      " [ 0.04963564  0.74549298  0.63425905]]\n",
      "[[-0.2276696   0.66863859  0.23710185]\n",
      " [-0.03778353 -0.21014137 -0.20588065]]\n"
     ]
    }
   ],
   "source": [
    "## rand() function : Returns random numbers which are only in the range 0 to 1 in a given shape\n",
    "print(np.random.rand())\n",
    "\n",
    "# To get results in a 2*3 matrix format, then need to add in the rgument '(2,3)' to the function for this example. \n",
    "print(np.random.rand(2,3))\n",
    "\n",
    "# The function randn() generates returns random numbers which are only in the range 0 to 1 in a given shape plus the numbers follow in a simple normal distribution.\n",
    "# Note a minus number is now included as a result.\n",
    "print(np.random.randn(2,3))"
   ]
  },
  {
   "cell_type": "markdown",
   "metadata": {},
   "source": [
    "#### Explanation of the function 'permutations'.\n",
    "The function 'permutation' calculates the number of combinations for a given range of numbers, for example 0 to 10 which will have 100 combinations (10x10) and returns one of the combinations which it has randomly selected. This output would be the same every time for a pre-defined array.\n",
    "\n",
    "The 'shuffle' function is included as part of the 'permutation' function but it can also be used separately to mix up a pre ordered list of data and would return different values for a pre-defined array. The shuffle function works on pre-defined arrays.\n",
    "Reference : https://docs.scipy.org/doc/numpy/reference/generated/numpy.random.permutation.html"
   ]
  },
  {
   "cell_type": "code",
   "execution_count": 13,
   "metadata": {},
   "outputs": [
    {
     "data": {
      "text/plain": [
       "array([4, 9, 7, 0, 8, 1, 6, 2, 5, 3])"
      ]
     },
     "execution_count": 13,
     "metadata": {},
     "output_type": "execute_result"
    }
   ],
   "source": [
    "# Permutation function\n",
    "np.random.permutation(10)\n",
    " "
   ]
  },
  {
   "cell_type": "code",
   "execution_count": 26,
   "metadata": {},
   "outputs": [
    {
     "name": "stdout",
     "output_type": "stream",
     "text": [
      "[3, 8, 9, 2, 6, 0, 5, 4, 1, 7]\n"
     ]
    }
   ],
   "source": [
    "# Shuffle function\n",
    "# 1st need to specify an array\n",
    "\n",
    "array = [0,1,2,3,4,5,6,7,8,9]\n",
    "np.random.shuffle(array)\n",
    "print(array)"
   ]
  },
  {
   "attachments": {
    "image.png": {
     "image/png": "[encoded data removed]"
    }
   },
   "cell_type": "markdown",
   "metadata": {
    "collapsed": true
   },
   "source": [
    " #### Explain the use and purposes of at least 5 'Distributions' functions\n",
    " - (1) Normal, called standard Normal dsitribution\n",
    " In statistics, normal distribution of data is used the most. It is also referred to as the 'bell curve' or the 'Gaussian curve' named after Karl Gauss who was a mathematician and was instrumental in its devlopment but it was Abraham de Moivre who first discovered the normal distribution. There is many normal distributions as they can have different means and standard deviations.\n",
    "In normal distributions, the data is displayed symmetrically where more values are at the center of the distribution and less values for the extremes. ??  ???? ????I changed these words around.......normal distributions are symmetric with relatively more values at the center of the distribution and relatively few in the tails.\n",
    "\n",
    "Most other distributions have their roots in the normal distribution\n",
    "......By fitting a Normal curve on the experimental data, one can weed out those data points which appear to be abnormal or influenced by some assignable cause. Thus the results of the experiment will be more realistic.\n",
    " Seven features of normal distributions are listed below. These features are illustrated in more detail in the remaining sections of this chapter.\n",
    "\n",
    "Normal distributions are symmetric around their mean.\n",
    "The mean, median, and mode of a normal distribution are equal.\n",
    "The area under the normal curve is equal to 1.0.\n",
    "Normal distributions are denser in the center and less dense in the tails.\n",
    "Normal distributions are defined by two parameters, the mean (μ) and the standard deviation (σ).\n",
    "68% of the area of a normal distribution is within one standard deviation of the mean.\n",
    "Approximately 95% of the area of a normal distribution is within two standard deviations of the mean.\n",
    "\n",
    "\n",
    "Reference : http://onlinestatbook.com/2/normal_distribution/intro.html\n",
    "\n",
    "\n",
    "Standard normal distribution allocates scores based on results ??? performance relative to how others results ???? performed in the same population.\n",
    "The advantage of this is that it allows for correct comparisions.\n",
    "\n",
    "Recall that standard deviation is a measure of spread; it is an average distance of data points away from the mean.\n",
    "Thus, comparing across distributions is akin to comparing apples to oranges. To make an informed decision, we will covert all scores to the same scale. We will standardize the scores, converting them to the standard normal distribution, with a single mean and a single standard deviation.\n",
    "\n",
    "The standard normal distribution, commonly referred to the Z-distribution, is a special case of a normal distribution with the following properties:\n",
    "\n",
    "It has a mean of zero.\n",
    "It has a standard deviation of one.\n",
    "Areas under the density curve can be found using a standard normal table\n",
    "A score on the standard normal distribution is called a Z-Score. It should be interpreted as the number of standard deviations a data point is above or below the mean. A positive Z-Score indicates that a point is above the average, and a negative Z-Score indicates a score below the average.\n",
    "\n",
    "The standard normal distribution follows the Empirical Rule (68-95-99.7 Rule), stating that 68% of the data falls within one standard deviation of the mean, 95% within two standard deviations, and 99.7% of data falls within three standard deviations of the mean.\n",
    "\n",
    "\n",
    "\n",
    "\n",
    "https://study.com/academy/lesson/standard-normal-distribution-definition-example.html\n",
    "\n",
    "\n",
    "The standard normal distribution simply converts the group of data in our frequency distribution such that the mean is 0 and the standard deviation is 1 (see below).\n",
    "\n",
    "![image.png](attachment:image.png)\n",
    "\n",
    "\n",
    "\n",
    "Purpose : \n",
    "Find out the top 1%, 5%, 10% etc...or bottom 10%..\n",
    "While the data may be different, that when compared against .....other coursework, that Sarah did well, although her marks were different\n",
    "\n",
    "What percentage (or number) of students scored higher than Sarah and what percentage (or number) of students scored lower than Sarah? First, let's reiterate that Sarah scored 70 out of 100, the mean score was 60, and the standard deviation was 15 (see below).\n",
    "core\tMean\tStandard Deviation\n",
    " \t(X)\tµ\ts\n",
    "English Literature\t70\t60\t15\n",
    "In terms of z-scores, this gives us:\n",
    "\n",
    "Standard Score Calculation\n",
    "The z-score is 0.67 (to 2 decimal places), but now we need to work out the percentage (or number) of students that scored higher and lower than Sarah. To do this, we need to refer to the standard normal distribution table.\n",
    "https://statistics.laerd.com/statistical-guides/standard-score.php\n",
    "\n",
    "\n",
    "Purpose : In medical field, A baby's weight at birth is strongly associated with mortality risk during the first year and, to a lesser degree, with developmental problems in childhood and the risk of various diseases in adulthood. THE WHO (World Health Organisation) \n",
    "https://www.healthknowledge.org.uk/public-health-textbook/research-methods/1b-statistical-methods/statistical-distributions\n",
    "\n",
    "purpose ; life expectancy? blood pressure...control limit..... marks on a test,,,,,manufacturing re weight of item, bag of sugar etc..\n",
    "\n",
    "\n",
    "Purpose :e.g. can compare height, weight, ????\n",
    "Uses in statistical quality control and for setting limits....self driving cars? safety measures re over or under heating..speed detectors ????\n",
    "Importance of normal distribution\n",
    "\n",
    "1)It has one of the important properties called central theorem. Central theorem means relationship between shape of population distribution and shape of sampling distribution of mean. This means that sampling distribution of mean approaches normal as sample size increase.\n",
    "\n",
    "2)In case the sample size is large the normal distribution serves as good approximation.\n",
    "\n",
    "3)Due to its mathematical properties it is more popular and easy to calculate.\n",
    "https://managementation.com/properties-and-importance-of-normal-distribution/\n",
    "\n",
    "Purpose : normal distribution is found to be very helpful in cartography\n",
    "http://epgp.inflibnet.ac.in/epgpdata/uploads/epgp_content/S000017GE/P001172/M024794/ET/1510132297ModuleII(NormalDistribution.pdf\n",
    "\n",
    "\n",
    "- (2) Exponential\n",
    "The exponential distribution (also called the negative exponential distribution) is a probability distribution that describes time between events in a Poisson process.\n",
    "There is a strong relationship between the Poisson distribution and the Exponential distribution. For example, let’s say a Poisson distribution models the number of births in a given time period. The time in between each birth can be modeled with an exponential distribution (Young & Young, 1998).\n",
    "![image.png](attachment:image.png)\n",
    "\n",
    "What is a Poisson Process?\n",
    "The Poisson process gives you a way to find probabilities for random points in time for a process. A “process” could be almost anything:\n",
    "\n",
    "Accidents at an interchange.\n",
    "File requests on a server.\n",
    "Customers arriving at a store.\n",
    "Battery failure and replacement.\n",
    "The Poisson process can tell you when one of these random points in time will likely happen. For example, when customers will arrive at a store, or when a battery might need to be replaced. It’s basically a counting process; it counts the number of times an event has occurred since a given point in time, like 1210 customers since 1 p.m., or 543 files since noon. An assumption for the process is that it is only used for independent events.\n",
    "https://www.statisticshowto.datasciencecentral.com/exponential-distribution/\n",
    "\n",
    " - (3) Binomial\n",
    "\n",
    " binomial random variable is the number of successes x in n repeated trials of a binomial experiment. The probability distribution of a binomial random variable is called a binomial distribution.\n",
    " The binomial distribution has the following properties:\n",
    "\n",
    "The mean of the distribution (μx) is equal to n * P .\n",
    "The variance (σ2x) is n * P * ( 1 - P ).\n",
    "The standard deviation (σx) is sqrt[ n * P * ( 1 - P ) ].\n",
    "The binomial probability refers to the probability that a binomial experiment results in exactly x successes. For example, in the above table, we see that the binomial probability of getting exactly one head in two coin flips is 0.50.\n",
    "\n",
    "Given x, n, and P, we can compute the binomial probability based on the binomial formula:\n",
    "\n",
    "Binomial Formula. Suppose a binomial experiment consists of n trials and results in x successes. If the probability of success on an individual trial is P, then the binomial probability is:\n",
    "\n",
    "b(x; n, P) = nCx * Px * (1 - P)n - x \n",
    "or \n",
    "b(x; n, P) = { n! / [ x! (n - x)! ] } * Px * (1 - P)n - x\n",
    "https://stattrek.com/probability-distributions/binomial.aspx?tutorial=prob\n",
    "\n",
    "Bi means 2, so it relates to things with 2 results, e.g. tossing a coin, heads or tails??\n",
    "Therefore the probability of the coin landing heads is 50% and tails 50%.\n",
    "Throwing a dice, to get 4, therefore probability is 1\\6th and the probability of not 4 is 5\\6ths..\n",
    "\n",
    "robability of k out of n ways:\n",
    "\n",
    "P(k out of n) =   n!k!(n-k)!  pk(1-p)(n-k)\n",
    "\n",
    "The General Binomial Probability Formula\n",
    "\n",
    "https://www.mathsisfun.com/data/binomial-distribution.html\n",
    "\n",
    "\n",
    "Binomial distribution describes the distribution of binary data from a finite sample. Thus it gives the probability of getting r events out of n trials.\n",
    " Reference : https://www.healthknowledge.org.uk/public-health-textbook/research-methods/1b-statistical-methods/statistical-distributions\n",
    " \n",
    " \n",
    " \n",
    "In the chapter on probability, we saw that the binomial distribution could be used to solve problems such as \"If a fair coin is flipped 100 times, what is the probability of getting 60 or more heads?\" The probability of exactly x heads out of N flips is computed using the formula:\n",
    "\n",
    "where x is the number of heads (60), N is the number of flips (100), and π is the probability of a head (0.5). Therefore, to solve this problem, you compute the probability of 60 heads, then the probability of 61 heads, 62 heads, etc., and add up all these probabilities. Imagine how long it must have taken to compute binomial probabilities before the advent of calculators and computers.\n",
    "\n",
    "Abraham de Moivre, an 18th century statistician and consultant to gamblers, was often called upon to make these lengthy computations. de Moivre noted that when the number of events (coin flips) increased, the shape of the binomial distribution approached a very smooth curve. Binomial distributions for 2, 4, and 12 flips are shown in Figure 1.\n",
    "\n",
    "http://onlinestatbook.com/2/normal_distribution/history_normal.html\n",
    "\n",
    "Purpose :  Medical field. \n",
    "If a group of patients is given a new drug for the relief of a particular condition, then the proportion p being successively treated can be regarded as estimating the population treatment success rate .\n",
    "\n",
    "The sample proportion p is analogous to the sample mean , in that if we score zero for those s patients who fail on treatment, and 1 for those r who succeed, then p=r/n, where n=r+s is the total number of patients treated. Thus p also represents a mean.\n",
    "https://www.healthknowledge.org.uk/public-health-textbook/research-methods/1b-statistical-methods/statistical-distributions\n",
    "\n",
    " - (4) Geometric distribution\n",
    "the geometric distribution is a special case of the negative binomial distribution . It deals with the number of trials required for a single success. Thus, the geometric distribution is a negative binomial distribution where the number of successes (r) is equal to 1.\n",
    " \n",
    " https://stattrek.com/statistics/dictionary.aspx?definition=geometric_distribution\n",
    " \n",
    " \n",
    " The geometric distribution represents the number of failures before you get a success in a series of Bernoulli trials. This discrete probability distribution is represented by the probability density function:\n",
    "\n",
    "f(x) = (1 − p)x − 1p\n",
    " \n",
    " For example, you ask people outside a polling station who they voted for until you find someone that voted for the independent candidate in a local election. The geometric distribution would represent the number of people who you had to poll before you found someone who voted independent. You would need to get a certain number of failures before you got your first success.\n",
    "\n",
    "If you had to ask 3 people, then X=3; if you had to ask 4 people, then X=4 and so on. In other words, there would be X-1 failures before you get your success.\n",
    "\n",
    "If X=n, it means you succeeded on the nth try and failed for n-1 tries. The probability of failing on your first try is 1-p. For example, if p = 0.2 then your probability of success is .2 and your probability of failure is 1 – 0.2 = 0.8. Independence (i.e. that the outcome of one trial does not affect the next) means that you can multiply the probabilities together. So the probability of failing on your second try is (1-p)(1-p) and your probability of failing on the nth-1 tries is (1-p)n-1. If you succeeded on your 4th try, n = 4, n – 1 = 3, so the probability of failing up to that point is (1-p)(1-p)(1-p) = (1-p)3.\n",
    "\n",
    "Example\n",
    "Sample question: If your probability of success is 0.2, what is the probability you meet an independent voter on your third try?\n",
    "Inserting 0.2 as p and with X = 3, the probability density function becomes:\n",
    "f(x) = (1 − p)x − 1*p\n",
    "P(X=3) = (1 − 0.2)3 − 1(0.2)\n",
    "P(X=3) = (0.8)2*0.2 = 0.128.\n",
    "geometric distribution\n",
    " \n",
    " ![image.png](attachment:image.png)\n",
    " Theoretically, there are an infinite number of geometric distributions. The value of any specific distribution depends on the value of the probability p.\n",
    "\n",
    "Assumptions for the Geometric Distribution\n",
    "The three assumptions are:\n",
    "\n",
    "There are two possible outcomes for each trial (success or failure).\n",
    "The trials are independent.\n",
    "The probability of success is the same for each trial.\n",
    " \n",
    " https://www.statisticshowto.datasciencecentral.com/geometric-distribution/\n",
    " \n",
    " - (5) Chi-squared distribution\n",
    " \n",
    " he distribution of the chi-square statistic is called the chi-square distribution.\n",
    " \n",
    " The chi-square distribution has the following properties:\n",
    "\n",
    "The mean of the distribution is equal to the number of degrees of freedom: μ = v.\n",
    "The variance is equal to two times the number of degrees of freedom: σ2 = 2 * v\n",
    "When the degrees of freedom are greater than or equal to 2, the maximum value for Y occurs when Χ2 = v - 2.\n",
    "As the degrees of freedom increase, the chi-square curve approaches a normal distribution.\n",
    " \n",
    " \n",
    " ![image.png](attachment:image.png)\n",
    " \n",
    " Purpose ; quality control in manufacturing\n",
    " \n",
    " \n",
    " https://stattrek.com/probability-distributions/chi-square.aspx?tutorial=prob\n",
    " \n",
    " The chi-squared distribution is continuous probability distribution whose shape is defined by the number of degrees of freedom. It is a right-skew distribution, but as the number of degrees of freedom increases it approximates the Normal distribution (Figure 4). The chi-squared distribution is important for its use in chi-squared tests. These are often used to test deviations between observed and expected frequencies, or to determine the independence between categorical variables. When conducting a chi-squared test, the probability values derived from chi-squared distributions can be looked up in a statistical table.\n",
    " \n",
    " \n",
    " \n",
    " "
   ]
  },
  {
   "cell_type": "markdown",
   "metadata": {},
   "source": []
  },
  {
   "cell_type": "code",
   "execution_count": null,
   "metadata": {
    "collapsed": true
   },
   "outputs": [],
   "source": [
    "\n",
    "#### Explain the use of seeds in generating pseudorandom numbers.\n",
    "when dont use permutations cos want the same number ????????"
   ]
  },
  {
   "cell_type": "code",
   "execution_count": null,
   "metadata": {
    "collapsed": true
   },
   "outputs": [],
   "source": []
  },
  {
   "cell_type": "code",
   "execution_count": null,
   "metadata": {
    "collapsed": true
   },
   "outputs": [],
   "source": []
  },
  {
   "cell_type": "markdown",
   "metadata": {},
   "source": [
    "### Importing the required libraries\n",
    "First, import the Numpy package "
   ]
  },
  {
   "cell_type": "code",
   "execution_count": 1,
   "metadata": {
    "collapsed": true
   },
   "outputs": [],
   "source": [
    "import numpy as np"
   ]
  }
 ],
 "metadata": {
  "kernelspec": {
   "display_name": "Python 3",
   "language": "python",
   "name": "python3"
  },
  "language_info": {
   "codemirror_mode": {
    "name": "ipython",
    "version": 3
   },
   "file_extension": ".py",
   "mimetype": "text/x-python",
   "name": "python",
   "nbconvert_exporter": "python",
   "pygments_lexer": "ipython3",
   "version": "3.6.3"
  }
 },
 "nbformat": 4,
 "nbformat_minor": 2
}
