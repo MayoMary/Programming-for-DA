{
 "cells": [
  {
   "cell_type": "markdown",
   "metadata": {},
   "source": [
    "## Programming for Analytics asignment\n",
    "Mary McHale\n",
    "\n",
    "The assignment is based on using the numpy.random package in Python.\n",
    "\n",
    "#### Purpose of the package\n",
    "Numpy is the primary package used for performing scientific calculations(e.g. the generation of random numbers, linear algebra) and data analysis in Python. The Numpy name is short for Numerical Python. NumPy includes:\n",
    "\n",
    " - Standard mathematical functions (e.g. addition, subtraction, multiplication and division) for quick calculations on entire arrays of data. The advantage of NumPy is that it has functions to do this in one step, otherwise Python could only perform this by using loops and for large data, this would use up a lot of memory and time to get the required result.\n",
    " \n",
    " - ndarray, a key feature, a fast and adaptable container for large data sets in Python where 'nd' denotes the dimension size.\n",
    " \n",
    " - NumPy can be used with other Python packages quite eaasily for higher level data analytical functionality\n",
    "References : \n",
    "https://www.oreilly.com/library/view/python-for-data/9781449323592/ch04.html\n",
    "http://numba.pydata.org/numba-doc/0.19.1/reference/numpysupported.html\n",
    "http://cs231n.github.io/python-numpy-tutorial/\n",
    "file:///C:/Users/Mary/Downloads/Numpy.pdf\n",
    "\n",
    "#### Explanation of the function 'simple random data'.\n",
    "\n",
    "The purpose of the 'simple random data' function is to produce a sample from a larger set of data where all data points are equal and have the same chance of being selected. \n",
    "https://www.investopedia.com/terms/s/simple-random-sample.asp\n",
    "\n",
    "There are ten types of functions in NumPy to create 'simple random data', each with diferent purposes. Of these, I will explain the following 3 - randint(), rand() and randn().\n",
    "\n",
    "Reference : https://docs.scipy.org/doc/numpy-1.14.0/reference/generated/numpy.random.normal.html"
   ]
  },
  {
   "cell_type": "code",
   "execution_count": 5,
   "metadata": {},
   "outputs": [
    {
     "data": {
      "text/plain": [
       "array([2, 9, 9, 1, 4])"
      ]
     },
     "execution_count": 5,
     "metadata": {},
     "output_type": "execute_result"
    }
   ],
   "source": [
    "## randint() function\n",
    "\n",
    "# the number '10' below is to use the numbers 0 to 9 as the data range from which to produce the random numbers\n",
    "# size relates to the number of random numbers to generate.\n",
    "np.random.randint(10, size=5)\n"
   ]
  },
  {
   "cell_type": "code",
   "execution_count": 12,
   "metadata": {},
   "outputs": [
    {
     "name": "stdout",
     "output_type": "stream",
     "text": [
      "0.44963751510721683\n",
      "[[ 0.53073371  0.26882054  0.52917205]\n",
      " [ 0.04963564  0.74549298  0.63425905]]\n",
      "[[-0.2276696   0.66863859  0.23710185]\n",
      " [-0.03778353 -0.21014137 -0.20588065]]\n"
     ]
    }
   ],
   "source": [
    "## rand() function : Returns random numbers which are only in the range 0 to 1 in a given shape\n",
    "print(np.random.rand())\n",
    "\n",
    "# To get results in a 2*3 matrix format, then need to add in the rgument '(2,3)' to the function for this example. \n",
    "print(np.random.rand(2,3))\n",
    "\n",
    "# The function randn() generates returns random numbers which are only in the range 0 to 1 in a given shape plus the numbers follow in a simple normal distribution.\n",
    "# Note a minus number is now included as a result.\n",
    "print(np.random.randn(2,3))"
   ]
  },
  {
   "cell_type": "markdown",
   "metadata": {},
   "source": [
    "#### Explanation of the function 'permutations'.\n",
    "The function 'permutation' calculates the number of combinations for a given range of numbers, for example 0 to 10 which will have 100 combinations (10x10) and returns one of the combinations which it has randomly selected. This output would be the same every time for a pre-defined array.\n",
    "\n",
    "The 'shuffle' function is included as part of the 'permutation' function but it can also be used separately to mix up a pre ordered list of data and would return different values for a pre-defined array. The shefle function works on pre-defined arrays.\n",
    "Reference : https://docs.scipy.org/doc/numpy/reference/generated/numpy.random.permutation.html"
   ]
  },
  {
   "cell_type": "code",
   "execution_count": 13,
   "metadata": {},
   "outputs": [
    {
     "data": {
      "text/plain": [
       "array([4, 9, 7, 0, 8, 1, 6, 2, 5, 3])"
      ]
     },
     "execution_count": 13,
     "metadata": {},
     "output_type": "execute_result"
    }
   ],
   "source": [
    "# Permutation function\n",
    "np.random.permutation(10)\n",
    " "
   ]
  },
  {
   "cell_type": "code",
   "execution_count": 26,
   "metadata": {},
   "outputs": [
    {
     "name": "stdout",
     "output_type": "stream",
     "text": [
      "[3, 8, 9, 2, 6, 0, 5, 4, 1, 7]\n"
     ]
    }
   ],
   "source": [
    "# Shuffle function\n",
    "# 1st need to specify an array\n",
    "\n",
    "array = [0,1,2,3,4,5,6,7,8,9]\n",
    "np.random.shuffle(array)\n",
    "print(array)"
   ]
  },
  {
   "cell_type": "markdown",
   "metadata": {
    "collapsed": true
   },
   "source": [
    " #### Explain the use and purposes of at least 5 'Distributions' functions\n",
    " - (1) Normal, called standard Normal\n",
    " - (2) Exponential\n",
    " - (3) Binomial\n",
    " - (4) Geometric\n",
    " - (5) Chi-squared\n",
    " \n",
    " \n",
    " \n",
    "\n",
    "#### Explain the use of seeds in generating pseudorandom numbers.\n",
    "when dont use permutations cos want the same number ????????\n",
    " "
   ]
  },
  {
   "cell_type": "markdown",
   "metadata": {},
   "source": [
    "### Importing the required libraries\n",
    "First, import the Numpy package "
   ]
  },
  {
   "cell_type": "code",
   "execution_count": 1,
   "metadata": {
    "collapsed": true
   },
   "outputs": [],
   "source": [
    "import numpy as np"
   ]
  }
 ],
 "metadata": {
  "kernelspec": {
   "display_name": "Python 3",
   "language": "python",
   "name": "python3"
  },
  "language_info": {
   "codemirror_mode": {
    "name": "ipython",
    "version": 3
   },
   "file_extension": ".py",
   "mimetype": "text/x-python",
   "name": "python",
   "nbconvert_exporter": "python",
   "pygments_lexer": "ipython3",
   "version": "3.6.3"
  }
 },
 "nbformat": 4,
 "nbformat_minor": 2
}
